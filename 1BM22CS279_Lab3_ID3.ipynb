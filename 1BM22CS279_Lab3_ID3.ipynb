{
  "nbformat": 4,
  "nbformat_minor": 0,
  "metadata": {
    "colab": {
      "provenance": [],
      "authorship_tag": "ABX9TyPLJkaHRLWTV0FmpKe9fwzn"
    },
    "kernelspec": {
      "name": "python3",
      "display_name": "Python 3"
    },
    "language_info": {
      "name": "python"
    }
  },
  "cells": [
    {
      "cell_type": "code",
      "execution_count": 1,
      "metadata": {
        "id": "mgRo8jnX-y2c"
      },
      "outputs": [],
      "source": [
        "import numpy as np\n",
        "import pandas as pd\n",
        "from collections import Counter"
      ]
    },
    {
      "cell_type": "code",
      "source": [
        "class Node:\n",
        "    def __init__(self, feature=None, value=None, label=None):\n",
        "        self.feature = feature\n",
        "        self.value = value\n",
        "        self.label = label\n",
        "        self.children = {}"
      ],
      "metadata": {
        "id": "siNDuUo3B2AX"
      },
      "execution_count": 12,
      "outputs": []
    },
    {
      "cell_type": "code",
      "source": [
        "def entropy(y):\n",
        "    counts = np.bincount(y)\n",
        "    probabilities = counts / len(y)\n",
        "    return -np.sum([p * np.log2(p) for p in probabilities if p > 0])"
      ],
      "metadata": {
        "id": "22M4FXsOB4ZV"
      },
      "execution_count": 3,
      "outputs": []
    },
    {
      "cell_type": "code",
      "source": [
        "def information_gain(X, y, feature):\n",
        "    total_entropy = entropy(y)\n",
        "    values, counts = np.unique(X[:, feature], return_counts=True)\n",
        "    weighted_entropy = sum((counts[i] / sum(counts)) * entropy(y[X[:, feature] == v]) for i, v in enumerate(values))\n",
        "    return total_entropy - weighted_entropy"
      ],
      "metadata": {
        "id": "Hth8tJxNB69u"
      },
      "execution_count": 4,
      "outputs": []
    },
    {
      "cell_type": "code",
      "source": [
        "def best_feature_to_split(X, y):\n",
        "    gains = [information_gain(X, y, i) for i in range(X.shape[1])]\n",
        "    return np.argmax(gains)"
      ],
      "metadata": {
        "id": "QlVaoDhSB-Rm"
      },
      "execution_count": 5,
      "outputs": []
    },
    {
      "cell_type": "code",
      "source": [
        "def id3(X, y, features):\n",
        "    if len(set(y)) == 1:\n",
        "        return Node(label=y[0])\n",
        "    if len(features) == 0:\n",
        "        return Node(label=Counter(y).most_common(1)[0][0])\n",
        "    best_feature = best_feature_to_split(X, y)\n",
        "    node = Node(feature=features[best_feature])\n",
        "    feature_values = np.unique(X[:, best_feature])\n",
        "    for value in feature_values:\n",
        "        sub_X = X[X[:, best_feature] == value]\n",
        "        sub_y = y[X[:, best_feature] == value]\n",
        "        if len(sub_y) == 0:\n",
        "            node.children[value] = Node(label=Counter(y).most_common(1)[0][0])\n",
        "        else:\n",
        "            node.children[value] = id3(np.delete(sub_X, best_feature, axis=1), sub_y, features[:best_feature] + features[best_feature+1:])\n",
        "    return node"
      ],
      "metadata": {
        "id": "xkh1uZ3mCBMV"
      },
      "execution_count": 6,
      "outputs": []
    },
    {
      "cell_type": "code",
      "source": [
        "def print_tree(node, depth=0):\n",
        "    if node.label is not None:\n",
        "        print(f\"{'  ' * depth}Leaf: {node.label}\")\n",
        "        return\n",
        "    print(f\"{'  ' * depth}Feature: {node.feature}\")\n",
        "    for value, child in node.children.items():\n",
        "        print(f\"{'  ' * depth}Value: {value}\")\n",
        "        print_tree(child, depth + 1)"
      ],
      "metadata": {
        "id": "kqEla3vZCF_W"
      },
      "execution_count": 7,
      "outputs": []
    },
    {
      "cell_type": "code",
      "source": [
        "data = pd.DataFrame({\n",
        "    'Outlook': ['Sunny', 'Sunny', 'Overcast', 'Rain', 'Rain', 'Rain', 'Overcast', 'Sunny', 'Sunny', 'Rain', 'Sunny', 'Overcast', 'Overcast', 'Rain'],\n",
        "    'Temperature': ['Hot', 'Hot', 'Hot', 'Mild', 'Cool', 'Cool', 'Cool', 'Mild', 'Cool', 'Mild', 'Mild', 'Mild', 'Hot', 'Mild'],\n",
        "    'Humidity': ['High', 'High', 'High', 'High', 'Normal', 'Normal', 'Normal', 'High', 'Normal', 'Normal', 'Normal', 'High', 'Normal', 'High'],\n",
        "    'Wind': ['Weak', 'Strong', 'Weak', 'Weak', 'Weak', 'Strong', 'Strong', 'Weak', 'Weak', 'Weak', 'Strong', 'Strong', 'Weak', 'Strong'],\n",
        "    'PlayTennis': ['No', 'No', 'Yes', 'Yes', 'Yes', 'No', 'Yes', 'No', 'Yes', 'Yes', 'Yes', 'Yes', 'Yes', 'No']\n",
        "})\n"
      ],
      "metadata": {
        "id": "p5MWYkG0CJGm"
      },
      "execution_count": 8,
      "outputs": []
    },
    {
      "cell_type": "code",
      "source": [
        "\n",
        "X = data.iloc[:, :-1].apply(lambda col: pd.factorize(col)[0]).to_numpy()\n",
        "y = pd.factorize(data['PlayTennis'])[0]\n",
        "features = list(data.columns[:-1])"
      ],
      "metadata": {
        "id": "ZQd3jn1LCMeP"
      },
      "execution_count": 10,
      "outputs": []
    },
    {
      "cell_type": "code",
      "source": [
        "decision_tree = id3(X, y, features)\n",
        "print_tree(decision_tree)\n"
      ],
      "metadata": {
        "colab": {
          "base_uri": "https://localhost:8080/"
        },
        "id": "9AKBMRGlCZXW",
        "outputId": "0e179ec0-6aa9-4f02-ec98-20f35e691c8c"
      },
      "execution_count": 11,
      "outputs": [
        {
          "output_type": "stream",
          "name": "stdout",
          "text": [
            "Feature: Outlook\n",
            "Value: 0\n",
            "  Feature: Humidity\n",
            "  Value: 0\n",
            "    Leaf: 0\n",
            "  Value: 1\n",
            "    Leaf: 1\n",
            "Value: 1\n",
            "  Leaf: 1\n",
            "Value: 2\n",
            "  Feature: Wind\n",
            "  Value: 0\n",
            "    Leaf: 1\n",
            "  Value: 1\n",
            "    Leaf: 0\n"
          ]
        }
      ]
    }
  ]
}